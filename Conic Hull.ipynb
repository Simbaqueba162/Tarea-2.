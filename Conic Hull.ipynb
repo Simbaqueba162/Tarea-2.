{
 "cells": [
  {
   "cell_type": "code",
   "execution_count": 3,
   "id": "35aaaab6",
   "metadata": {},
   "outputs": [],
   "source": [
    "using LinearAlgebra"
   ]
  },
  {
   "cell_type": "markdown",
   "id": "b748afaf",
   "metadata": {},
   "source": [
    "El siguiente programa muestra si un vector está contenido en la envolvente cónica de un conjunto de vectores. En las siguientes dos líneas se introducen los datos. El vector V es el vector a verificar y las columnas de la matriz A la conforman los puntos cuya envolvente cónica se desea calcular."
   ]
  },
  {
   "cell_type": "code",
   "execution_count": 78,
   "id": "9b8fa3ce",
   "metadata": {},
   "outputs": [
    {
     "data": {
      "text/plain": [
       "3-element Vector{Int64}:\n",
       " 1\n",
       " 1\n",
       " 1"
      ]
     },
     "execution_count": 78,
     "metadata": {},
     "output_type": "execute_result"
    }
   ],
   "source": [
    "V = [1; 1; 1]"
   ]
  },
  {
   "cell_type": "code",
   "execution_count": 79,
   "id": "a6a0d34d",
   "metadata": {},
   "outputs": [
    {
     "data": {
      "text/plain": [
       "3×4 Matrix{Int64}:\n",
       " 1  2  3  4\n",
       " 3  2  4  1\n",
       " 0  0  0  0"
      ]
     },
     "execution_count": 79,
     "metadata": {},
     "output_type": "execute_result"
    }
   ],
   "source": [
    "A = [1 2 3 4; 3 2 4 1; 0 0 0 0]"
   ]
  },
  {
   "cell_type": "markdown",
   "id": "f5b52912",
   "metadata": {},
   "source": [
    "El vector V pertenece a la envolvente cónica de los puntos que conforman las columnas de $A$ si este puede expresarse como una combinación cónica de las columnas de $A$. Es decir, hay que asegurar que exista Y tal que $A\\cdot y = V$ y $0\\preceq y$"
   ]
  },
  {
   "cell_type": "code",
   "execution_count": 80,
   "id": "8d071822",
   "metadata": {},
   "outputs": [
    {
     "data": {
      "text/plain": [
       "4-element Vector{Float64}:\n",
       " 0.07547169811320753\n",
       " 0.07547169811320756\n",
       " 0.13207547169811315\n",
       " 0.09433962264150944"
      ]
     },
     "execution_count": 80,
     "metadata": {},
     "output_type": "execute_result"
    }
   ],
   "source": [
    "y = A\\V"
   ]
  },
  {
   "cell_type": "markdown",
   "id": "d4044a9e",
   "metadata": {},
   "source": [
    "Vale la pena tener presente que Julia da la mejor solución posible cuando se utiliza el comando de la línea anterior, es decir, es posible que la solución sea la asociada al problema de mínimos cuadrados. Por tal razón, se usa el siguiente código que verifica que la solución obtenida sea exacta y, además, verifica que cumpla la condición $0\\preceq y$"
   ]
  },
  {
   "cell_type": "code",
   "execution_count": 91,
   "id": "2fdee248",
   "metadata": {},
   "outputs": [
    {
     "name": "stdout",
     "output_type": "stream",
     "text": [
      "V no está en la envolvente cónica"
     ]
    }
   ],
   "source": [
    "if all(>=(0),y) && all(<=(10^-10),broadcast(abs,A*y-V)) \n",
    "    print(\"V está en la envolvente cónica\")\n",
    "else\n",
    "    print(\"V no está en la envolvente cónica\")\n",
    "end"
   ]
  }
 ],
 "metadata": {
  "kernelspec": {
   "display_name": "Julia 1.7.2",
   "language": "julia",
   "name": "julia-1.7"
  },
  "language_info": {
   "file_extension": ".jl",
   "mimetype": "application/julia",
   "name": "julia",
   "version": "1.7.2"
  }
 },
 "nbformat": 4,
 "nbformat_minor": 5
}
